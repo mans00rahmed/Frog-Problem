{
 "cells": [
  {
   "cell_type": "code",
   "execution_count": 1,
   "metadata": {},
   "outputs": [],
   "source": [
    "# All possible functions frog can do\n",
    "def movef(lst,i):\n",
    "    lst[i],lst[i+1] = lst[i+1],lst[i]\n",
    "    return(lst)\n",
    "\n",
    "def jumpf(lst,i):\n",
    "    lst[i],lst[i+2] = lst[i+2],lst[i]\n",
    "    return(lst)\n",
    "\n",
    "def moveb(lst,i):\n",
    "    lst[i],lst[i-1] = lst[i-1],lst[i]\n",
    "    return(lst)\n",
    "\n",
    "def jumpb(lst,i):\n",
    "    lst[i],lst[i-2] = lst[i-2],lst[i]\n",
    "    return(lst) \n",
    "\n",
    "#Driver C0de\n",
    "lst = [1,1,1,0,2,2,2] # initial Positional List"
   ]
  },
  {
   "cell_type": "code",
   "execution_count": 2,
   "metadata": {},
   "outputs": [
    {
     "name": "stdout",
     "output_type": "stream",
     "text": [
      "[1, 1, 1, 2, 0, 2, 2]\n"
     ]
    }
   ],
   "source": [
    "i = 4 # i showing number of frog. 4 means third forg.\n",
    "print(moveb(lst,i))"
   ]
  },
  {
   "cell_type": "code",
   "execution_count": 3,
   "metadata": {},
   "outputs": [
    {
     "name": "stdout",
     "output_type": "stream",
     "text": [
      "[1, 1, 0, 2, 1, 2, 2]\n"
     ]
    }
   ],
   "source": [
    "i=2 \n",
    "print(jumpf(lst,i))"
   ]
  },
  {
   "cell_type": "code",
   "execution_count": 4,
   "metadata": {},
   "outputs": [
    {
     "name": "stdout",
     "output_type": "stream",
     "text": [
      "[1, 0, 1, 2, 1, 2, 2]\n"
     ]
    }
   ],
   "source": [
    "i=1 \n",
    "print(movef(lst,i))"
   ]
  },
  {
   "cell_type": "code",
   "execution_count": 5,
   "metadata": {},
   "outputs": [
    {
     "name": "stdout",
     "output_type": "stream",
     "text": [
      "[1, 2, 1, 0, 1, 2, 2]\n"
     ]
    }
   ],
   "source": [
    "i=3\n",
    "print(jumpb(lst,i))"
   ]
  },
  {
   "cell_type": "code",
   "execution_count": 6,
   "metadata": {},
   "outputs": [
    {
     "name": "stdout",
     "output_type": "stream",
     "text": [
      "[1, 2, 1, 2, 1, 0, 2]\n"
     ]
    }
   ],
   "source": [
    "i=5\n",
    "print(jumpb(lst,i))"
   ]
  },
  {
   "cell_type": "code",
   "execution_count": 7,
   "metadata": {},
   "outputs": [
    {
     "name": "stdout",
     "output_type": "stream",
     "text": [
      "[1, 2, 1, 2, 1, 2, 0]\n"
     ]
    }
   ],
   "source": [
    "i=6\n",
    "print(moveb(lst,i))"
   ]
  },
  {
   "cell_type": "code",
   "execution_count": 8,
   "metadata": {},
   "outputs": [
    {
     "name": "stdout",
     "output_type": "stream",
     "text": [
      "[1, 2, 1, 2, 0, 2, 1]\n"
     ]
    }
   ],
   "source": [
    "i=4\n",
    "print(jumpf(lst,i))"
   ]
  },
  {
   "cell_type": "code",
   "execution_count": 9,
   "metadata": {},
   "outputs": [
    {
     "name": "stdout",
     "output_type": "stream",
     "text": [
      "[1, 2, 0, 2, 1, 2, 1]\n"
     ]
    }
   ],
   "source": [
    "i=2\n",
    "print(jumpf(lst,i))"
   ]
  },
  {
   "cell_type": "code",
   "execution_count": 10,
   "metadata": {},
   "outputs": [
    {
     "name": "stdout",
     "output_type": "stream",
     "text": [
      "[0, 2, 1, 2, 1, 2, 1]\n"
     ]
    }
   ],
   "source": [
    "i=0\n",
    "print(jumpf(lst,i))"
   ]
  },
  {
   "cell_type": "code",
   "execution_count": 11,
   "metadata": {},
   "outputs": [
    {
     "name": "stdout",
     "output_type": "stream",
     "text": [
      "[2, 0, 1, 2, 1, 2, 1]\n"
     ]
    }
   ],
   "source": [
    "i=1\n",
    "print(moveb(lst,i))"
   ]
  },
  {
   "cell_type": "code",
   "execution_count": 12,
   "metadata": {},
   "outputs": [
    {
     "name": "stdout",
     "output_type": "stream",
     "text": [
      "[2, 2, 1, 0, 1, 2, 1]\n"
     ]
    }
   ],
   "source": [
    "i=3\n",
    "print(jumpb(lst,i))"
   ]
  },
  {
   "cell_type": "code",
   "execution_count": 13,
   "metadata": {},
   "outputs": [
    {
     "name": "stdout",
     "output_type": "stream",
     "text": [
      "[2, 2, 1, 2, 1, 0, 1]\n"
     ]
    }
   ],
   "source": [
    "i=5\n",
    "print(jumpb(lst,i))"
   ]
  },
  {
   "cell_type": "code",
   "execution_count": 14,
   "metadata": {},
   "outputs": [
    {
     "name": "stdout",
     "output_type": "stream",
     "text": [
      "[2, 2, 1, 2, 0, 1, 1]\n"
     ]
    }
   ],
   "source": [
    "i=4\n",
    "print(movef(lst,i))"
   ]
  },
  {
   "cell_type": "code",
   "execution_count": 15,
   "metadata": {},
   "outputs": [
    {
     "name": "stdout",
     "output_type": "stream",
     "text": [
      "[2, 2, 0, 2, 1, 1, 1]\n"
     ]
    }
   ],
   "source": [
    "i=2\n",
    "print(jumpf(lst,i))"
   ]
  },
  {
   "cell_type": "code",
   "execution_count": 16,
   "metadata": {},
   "outputs": [
    {
     "name": "stdout",
     "output_type": "stream",
     "text": [
      "[2, 2, 2, 0, 1, 1, 1]\n"
     ]
    }
   ],
   "source": [
    "i=3\n",
    "print(moveb(lst,i)) "
   ]
  },
  {
   "cell_type": "code",
   "execution_count": 17,
   "metadata": {},
   "outputs": [
    {
     "name": "stdout",
     "output_type": "stream",
     "text": [
      "Desired Positonal List [2, 2, 2, 0, 1, 1, 1]\n"
     ]
    }
   ],
   "source": [
    "print(\"Desired Positonal List\",lst)"
   ]
  }
 ],
 "metadata": {
  "kernelspec": {
   "display_name": "Python 3",
   "language": "python",
   "name": "python3"
  },
  "language_info": {
   "codemirror_mode": {
    "name": "ipython",
    "version": 3
   },
   "file_extension": ".py",
   "mimetype": "text/x-python",
   "name": "python",
   "nbconvert_exporter": "python",
   "pygments_lexer": "ipython3",
   "version": "3.8.5"
  }
 },
 "nbformat": 4,
 "nbformat_minor": 4
}
